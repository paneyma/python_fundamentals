{
 "cells": [
  {
   "cell_type": "code",
   "execution_count": null,
   "metadata": {},
   "outputs": [],
   "source": [
    "# Introductio of if-else statement\n",
    "\n",
    "@general syntax \n",
    "\n",
    "if x conditionalStat :\n",
    "    print()\n",
    "else:\n",
    "    print()\n"
   ]
  },
  {
   "cell_type": "code",
   "execution_count": 34,
   "metadata": {},
   "outputs": [
    {
     "name": "stdout",
     "output_type": "stream",
     "text": [
      "['aashish', 'Nihar', 'Madhu', 'Sonam', 'Satish']\n",
      "Remaining employee in my List is- Aashish\n",
      "Nihar\n",
      "5\n",
      "Madhu\n",
      "5\n",
      "\tWell done - SONAM\t\n",
      "\tWell done - SATISH\t\n"
     ]
    }
   ],
   "source": [
    "my_emp = ['aashish', 'Nihar' , 'Madhu' , 'Sonam' , 'Satish']\n",
    "print(my_emp)\n",
    "\n",
    "for employee in my_emp:\n",
    "     if employee[0] == 'S' :\n",
    "            print(f\"\\tWell done - {employee.upper()}\\t\")\n",
    "            \n",
    "     else:\n",
    "        if len(employee) > 6 :\n",
    "            print(f\"Remaining employee in my List is- {employee.title()}\")\n",
    "        else:\n",
    "            print(employee.title())\n",
    "            print(len(employee))"
   ]
  },
  {
   "cell_type": "code",
   "execution_count": null,
   "metadata": {},
   "outputs": [],
   "source": [
    "@....Introduction of slicing of list....@\n",
    "\n",
    "1. Syntx ==> mainvar[StartVar:EndVar] ==> Last value of list is always exclusive"
   ]
  },
  {
   "cell_type": "code",
   "execution_count": 138,
   "metadata": {},
   "outputs": [
    {
     "name": "stdout",
     "output_type": "stream",
     "text": [
      "\n",
      "Lenth of 0 value is\t\t==> 7\n",
      "Printing 0 value of List is\t==> Aashish\n",
      "\n",
      "Lenth of 1 value is\t\t==> 5\n",
      "Lenth of previous value is\t==> 7\n",
      "lrngth of Ruchi is smaller than previous value \n",
      "\n",
      "Lenth of 2 value is\t\t==> 9\n",
      "Lenth of previous value is\t==> 5\n",
      "Printing 2 value of List is\t==> Madhulika\n",
      "lrngth of Madhulika is grater than previous value \n",
      "\n",
      "Lenth of 3 value is\t\t==> 5\n",
      "Lenth of previous value is\t==> 9\n",
      "lrngth of Sonam is smaller than previous value \n",
      "\n",
      "Lenth of 4 value is\t\t==> 6\n",
      "Lenth of previous value is\t==> 5\n",
      "Printing 4 value of List is\t==> Satish\n",
      "lrngth of Satish is grater than previous value \n",
      "\n",
      "Totale values In the List is==>\t5\n"
     ]
    }
   ],
   "source": [
    "my_emp = ['Aashish', 'Ruchi' , 'Madhulika' , 'Sonam' , 'Satish']\n",
    "\n",
    "b = 0\n",
    "c = 0\n",
    "for i in my_emp:    \n",
    "    a = len(i)\n",
    "    print(f\"\\nLenth of {c} value is\\t\\t==> {a}\")\n",
    "    if b < 1:\n",
    "        print(f\"Printing {c} value of List is\\t==> {i}\")\n",
    "       \n",
    "    elif a > b :\n",
    "        print(f\"Lenth of previous value is\\t==> {b}\")\n",
    "        print(f\"Printing {c} value of List is\\t==> {i}\")\n",
    "        print(f\"lrngth of {i} is grater than previous value \")\n",
    "    else:  \n",
    "        print(f\"Lenth of previous value is\\t==> {b}\")\n",
    "        print(f\"lrngth of {i} is smaller than previous value \")\n",
    "    \n",
    "    b = a\n",
    "    c = c + 1\n",
    "print(f\"\\nTotale values In the List is==>\\t{c}\")\n",
    "\n"
   ]
  },
  {
   "cell_type": "code",
   "execution_count": 139,
   "metadata": {},
   "outputs": [
    {
     "name": "stdout",
     "output_type": "stream",
     "text": [
      "Actual Order of list is ==>\t['Aashish', 'Ruchi', 'Madhulika', 'Sonam', 'Satish']\n",
      "Reverse Order of list is ==>\t['Satish', 'Sonam', 'Madhulika', 'Ruchi', 'Aashish']\n"
     ]
    }
   ],
   "source": [
    "\n",
    "print(f\"Actual Order of list is ==>\\t{my_emp}\")\n",
    "print(f\"Reverse Order of list is ==>\\t{my_emp[::-1]}\")"
   ]
  },
  {
   "cell_type": "code",
   "execution_count": 144,
   "metadata": {},
   "outputs": [
    {
     "name": "stdout",
     "output_type": "stream",
     "text": [
      "Step Order of list is         ==>\t['Aashish', 'Madhulika', 'Satish']\n",
      "Reverse step Order of list is ==>\t['Satish', 'Madhulika', 'Aashish']\n"
     ]
    }
   ],
   "source": [
    "print(f\"Step Order of list is         ==>\\t{my_emp[0:5:2]}\")\n",
    "print(f\"Reverse step Order of list is ==>\\t{my_emp[-1:-6:-2]}\")"
   ]
  },
  {
   "cell_type": "code",
   "execution_count": null,
   "metadata": {},
   "outputs": [],
   "source": []
  },
  {
   "cell_type": "code",
   "execution_count": null,
   "metadata": {},
   "outputs": [],
   "source": []
  },
  {
   "cell_type": "code",
   "execution_count": null,
   "metadata": {},
   "outputs": [],
   "source": []
  },
  {
   "cell_type": "code",
   "execution_count": null,
   "metadata": {},
   "outputs": [],
   "source": []
  },
  {
   "cell_type": "code",
   "execution_count": null,
   "metadata": {},
   "outputs": [],
   "source": []
  },
  {
   "cell_type": "code",
   "execution_count": null,
   "metadata": {},
   "outputs": [],
   "source": []
  },
  {
   "cell_type": "code",
   "execution_count": null,
   "metadata": {},
   "outputs": [],
   "source": []
  }
 ],
 "metadata": {
  "kernelspec": {
   "display_name": "Python 3",
   "language": "python",
   "name": "python3"
  },
  "language_info": {
   "codemirror_mode": {
    "name": "ipython",
    "version": 3
   },
   "file_extension": ".py",
   "mimetype": "text/x-python",
   "name": "python",
   "nbconvert_exporter": "python",
   "pygments_lexer": "ipython3",
   "version": "3.7.6"
  }
 },
 "nbformat": 4,
 "nbformat_minor": 4
}
