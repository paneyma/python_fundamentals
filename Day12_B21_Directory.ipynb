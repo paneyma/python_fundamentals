{
 "cells": [
  {
   "cell_type": "code",
   "execution_count": null,
   "metadata": {},
   "outputs": [],
   "source": [
    " # Dictionary Data Type \n",
    "    1. It is a mutable data type \n",
    "    2. It is a Key:Value pair data type \n",
    "    3. Defined in {} curley brackets \n",
    "    4. Short form as dict  "
   ]
  },
  {
   "cell_type": "code",
   "execution_count": 1,
   "metadata": {},
   "outputs": [],
   "source": [
    "number = {1:'one',2:'two',3:'three',4:'four'}"
   ]
  },
  {
   "cell_type": "code",
   "execution_count": 2,
   "metadata": {},
   "outputs": [
    {
     "name": "stdout",
     "output_type": "stream",
     "text": [
      "{1: 'one', 2: 'two', 3: 'three', 4: 'four'}\n"
     ]
    }
   ],
   "source": [
    "print(number)"
   ]
  },
  {
   "cell_type": "code",
   "execution_count": 3,
   "metadata": {},
   "outputs": [
    {
     "data": {
      "text/plain": [
       "dict"
      ]
     },
     "execution_count": 3,
     "metadata": {},
     "output_type": "execute_result"
    }
   ],
   "source": [
    "type(number)"
   ]
  },
  {
   "cell_type": "code",
   "execution_count": null,
   "metadata": {},
   "outputs": [],
   "source": [
    "# we can access the value from dictionary by passing the key"
   ]
  },
  {
   "cell_type": "code",
   "execution_count": 6,
   "metadata": {},
   "outputs": [
    {
     "name": "stdout",
     "output_type": "stream",
     "text": [
      "three\n"
     ]
    }
   ],
   "source": [
    "print(number[3])"
   ]
  },
  {
   "cell_type": "code",
   "execution_count": null,
   "metadata": {},
   "outputs": [],
   "source": [
    "# Adding New Key Value pair in Dictionary"
   ]
  },
  {
   "cell_type": "code",
   "execution_count": 7,
   "metadata": {},
   "outputs": [],
   "source": [
    "number[5] = 'Five'\n",
    "number[6] = 'SIX'"
   ]
  },
  {
   "cell_type": "code",
   "execution_count": 8,
   "metadata": {},
   "outputs": [
    {
     "name": "stdout",
     "output_type": "stream",
     "text": [
      "{1: 'one', 2: 'two', 3: 'three', 4: 'four', 5: 'Five', 6: 'SIX'}\n"
     ]
    }
   ],
   "source": [
    "print(number)"
   ]
  },
  {
   "cell_type": "code",
   "execution_count": 10,
   "metadata": {},
   "outputs": [
    {
     "name": "stdout",
     "output_type": "stream",
     "text": [
      "{1: 'one', 2: 'two', 3: 'three', 4: 'four', 5: 'Five', 6: '6'}\n"
     ]
    }
   ],
   "source": [
    "# Change Value in Dictionary\n",
    "\n",
    "number[6] = '6'\n",
    "print(number)"
   ]
  },
  {
   "cell_type": "code",
   "execution_count": 11,
   "metadata": {},
   "outputs": [
    {
     "name": "stdout",
     "output_type": "stream",
     "text": [
      "{1: 'one', 2: 'two', 3: 'three', 4: 'four', 5: 'Five'}\n"
     ]
    }
   ],
   "source": [
    "# delete value from dictionary\n",
    "\n",
    "del number[6]\n",
    "print(number)"
   ]
  },
  {
   "cell_type": "code",
   "execution_count": null,
   "metadata": {},
   "outputs": [],
   "source": [
    "# General Syntax of FOR loop in Dict ==> Two temp Var can be print in Dict\n",
    "\n",
    "for k,v in mainVar.items():\n",
    "    print(k)\n",
    "    print(v)"
   ]
  },
  {
   "cell_type": "code",
   "execution_count": 22,
   "metadata": {},
   "outputs": [
    {
     "name": "stdout",
     "output_type": "stream",
     "text": [
      "Key->\t 1\n",
      "Value-> one\n",
      "Key->\t 2\n",
      "Value-> two\n",
      "Key->\t 3\n",
      "Value-> three\n",
      "Key->\t 4\n",
      "Value-> four\n",
      "Key->\t 5\n",
      "Value-> Five\n"
     ]
    }
   ],
   "source": [
    "for k,v in number.items():\n",
    "    print(\"Key->\\t\",k)\n",
    "    print(\"Value->\" ,v)"
   ]
  },
  {
   "cell_type": "code",
   "execution_count": 18,
   "metadata": {},
   "outputs": [
    {
     "name": "stdout",
     "output_type": "stream",
     "text": [
      "Number to Char 1 --> One\n",
      "Number to Char 2 --> Two\n",
      "Number to Char 3 --> Three\n",
      "Number to Char 4 --> Four\n",
      "Number to Char 5 --> Five\n"
     ]
    }
   ],
   "source": [
    "for k,v in number.items():\n",
    "    print(f\"Number to Char {k} --> {v.title()}\")"
   ]
  },
  {
   "cell_type": "code",
   "execution_count": 38,
   "metadata": {},
   "outputs": [
    {
     "name": "stdout",
     "output_type": "stream",
     "text": [
      "Key: 1\n",
      "Key: 2\n",
      "Key: 3\n",
      "Key: 4\n",
      "Key: 5\n"
     ]
    }
   ],
   "source": [
    "for k in number.keys():\n",
    "    print(f\"Key: {k}\")\n",
    "    #print(f\"Value: {v}\")\n",
    "    "
   ]
  },
  {
   "cell_type": "code",
   "execution_count": 42,
   "metadata": {},
   "outputs": [
    {
     "name": "stdout",
     "output_type": "stream",
     "text": [
      "Value: one\n",
      "Value: two\n",
      "Value: three\n",
      "Value: four\n",
      "Value: Five\n"
     ]
    }
   ],
   "source": [
    "for v in number.values():\n",
    "    print(f\"Value: {v}\")"
   ]
  },
  {
   "cell_type": "code",
   "execution_count": null,
   "metadata": {},
   "outputs": [],
   "source": []
  }
 ],
 "metadata": {
  "kernelspec": {
   "display_name": "Python 3",
   "language": "python",
   "name": "python3"
  },
  "language_info": {
   "codemirror_mode": {
    "name": "ipython",
    "version": 3
   },
   "file_extension": ".py",
   "mimetype": "text/x-python",
   "name": "python",
   "nbconvert_exporter": "python",
   "pygments_lexer": "ipython3",
   "version": "3.7.6"
  }
 },
 "nbformat": 4,
 "nbformat_minor": 4
}
