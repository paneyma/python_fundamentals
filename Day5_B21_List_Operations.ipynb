{
 "cells": [
  {
   "cell_type": "code",
   "execution_count": null,
   "metadata": {},
   "outputs": [],
   "source": [
    "# Organising the List\n",
    "==> Temp Method      --> Temp change, orgnized order always their            @ sorted\n",
    "==> Permanent Method --> Permanent change,No orgnized order will be their    @ sort"
   ]
  },
  {
   "cell_type": "code",
   "execution_count": 29,
   "metadata": {},
   "outputs": [
    {
     "name": "stdout",
     "output_type": "stream",
     "text": [
      "['aashish', 'Nihar', 'Madhu', 'Sonam', 'Satish']\n",
      "After Temp Sorted Method \n",
      "\t  ['Madhu', 'Nihar', 'Satish', 'Sonam', 'aashish']\n",
      "After Temp Sorted Method \n",
      "\t  ['aashish', 'Nihar', 'Madhu', 'Sonam', 'Satish']\n"
     ]
    }
   ],
   "source": [
    "my_emp = ['aashish', 'Nihar' , 'Madhu' , 'Sonam' , 'Satish']\n",
    "print(my_emp)\n",
    "\n",
    "print(\"Temp Sorted Method \\n\\t \", sorted(my_emp))\n",
    "\n",
    "print(\"After Temp Sorted Method \\n\\t \", my_emp)"
   ]
  },
  {
   "cell_type": "code",
   "execution_count": 36,
   "metadata": {},
   "outputs": [
    {
     "name": "stdout",
     "output_type": "stream",
     "text": [
      "Applied sort method \t\n",
      "['Madhu', 'Nihar', 'Satish', 'Sonam', 'aashish']\n",
      "\n",
      "After Permanent Sorted Method \n",
      "\t  ['Madhu', 'Nihar', 'Satish', 'Sonam', 'aashish']\n"
     ]
    }
   ],
   "source": [
    "# Permanent car\n",
    "\n",
    "my_emp.sort()\n",
    "print(\"Applied sort method \")\n",
    "print(my_emp)\n",
    "print(  )\n",
    "print(\"After Permanent Sorted Method \\n\\t \", my_emp)\n",
    "\n"
   ]
  },
  {
   "cell_type": "code",
   "execution_count": 48,
   "metadata": {},
   "outputs": [
    {
     "name": "stdout",
     "output_type": "stream",
     "text": [
      "Applied reverse method\n",
      "\t  ['Madhu', 'Nihar', 'Satish', 'Sonam', 'aashish']\n"
     ]
    }
   ],
   "source": [
    "# Print the list in Reverse Order\n",
    "\n",
    "my_emp.reverse()\n",
    "\n",
    "print(\"Applied reverse method\\n\\t \", my_emp)\n"
   ]
  },
  {
   "cell_type": "code",
   "execution_count": 49,
   "metadata": {},
   "outputs": [
    {
     "name": "stdout",
     "output_type": "stream",
     "text": [
      "No of element in my list==>  5\n"
     ]
    }
   ],
   "source": [
    "count = len(my_emp)\n",
    "print(\"No of element in my list==> \", count)"
   ]
  },
  {
   "cell_type": "code",
   "execution_count": null,
   "metadata": {},
   "outputs": [],
   "source": [
    "# Introduction Of FOR loop"
   ]
  },
  {
   "cell_type": "code",
   "execution_count": 58,
   "metadata": {},
   "outputs": [
    {
     "name": "stdout",
     "output_type": "stream",
     "text": [
      "Name of thr employee in my List is- {'Satish'}\n",
      "Name of thr employee in my List is- {'Sonam'}\n",
      "Name of thr employee in my List is- {'Madhu'}\n"
     ]
    }
   ],
   "source": [
    "print(f\"Name of thr employee in my List is-\", {my_emp[2].title()})\n",
    "print(f\"Name of thr employee in my List is-\", {my_emp[3].title()})\n",
    "print(f\"Name of thr employee in my List is-\", {my_emp[0].title()})"
   ]
  },
  {
   "cell_type": "code",
   "execution_count": 68,
   "metadata": {},
   "outputs": [
    {
     "name": "stdout",
     "output_type": "stream",
     "text": [
      "['aashish', 'Sonam', 'Satish', 'Nihar', 'Madhu']\n",
      "Name of thr employee in my List is- Aashish\n",
      "Name of thr employee in my List is- Sonam\n",
      "Name of thr employee in my List is- Satish\n",
      "Name of thr employee in my List is- Nihar\n",
      "Name of thr employee in my List is- Madhu\n"
     ]
    }
   ],
   "source": [
    "my_emp.reverse()\n",
    "print(my_emp)\n",
    "for employee in my_emp:\n",
    "        print(f\"Name of thr employee in my List is- {employee.title()}\")"
   ]
  },
  {
   "cell_type": "code",
   "execution_count": 69,
   "metadata": {},
   "outputs": [
    {
     "name": "stdout",
     "output_type": "stream",
     "text": [
      "['Madhu', 'Nihar', 'Satish', 'Sonam', 'aashish']\n",
      "Name of thr employee in my List is- Madhu\n",
      "Name of thr employee in my List is- Nihar\n",
      "Name of thr employee in my List is- Satish\n",
      "Name of thr employee in my List is- Sonam\n",
      "Name of thr employee in my List is- Aashish\n"
     ]
    }
   ],
   "source": [
    "my_emp.sort()\n",
    "print(my_emp)\n",
    "for employee in my_emp:\n",
    "        print(f\"Name of thr employee in my List is- {employee.title()}\")"
   ]
  },
  {
   "cell_type": "code",
   "execution_count": null,
   "metadata": {},
   "outputs": [],
   "source": []
  },
  {
   "cell_type": "code",
   "execution_count": null,
   "metadata": {},
   "outputs": [],
   "source": []
  },
  {
   "cell_type": "code",
   "execution_count": null,
   "metadata": {},
   "outputs": [],
   "source": []
  },
  {
   "cell_type": "code",
   "execution_count": null,
   "metadata": {},
   "outputs": [],
   "source": []
  },
  {
   "cell_type": "code",
   "execution_count": null,
   "metadata": {},
   "outputs": [],
   "source": []
  }
 ],
 "metadata": {
  "kernelspec": {
   "display_name": "Python 3",
   "language": "python",
   "name": "python3"
  },
  "language_info": {
   "codemirror_mode": {
    "name": "ipython",
    "version": 3
   },
   "file_extension": ".py",
   "mimetype": "text/x-python",
   "name": "python",
   "nbconvert_exporter": "python",
   "pygments_lexer": "ipython3",
   "version": "3.7.6"
  }
 },
 "nbformat": 4,
 "nbformat_minor": 4
}
