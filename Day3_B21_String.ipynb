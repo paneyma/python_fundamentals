{
 "cells": [
  {
   "cell_type": "code",
   "execution_count": null,
   "metadata": {},
   "outputs": [],
   "source": [
    "# Intoduction to \"F\" string"
   ]
  },
  {
   "cell_type": "code",
   "execution_count": 41,
   "metadata": {},
   "outputs": [
    {
     "name": "stdout",
     "output_type": "stream",
     "text": [
      "     Maneesh  PANDEY  kumar \n"
     ]
    }
   ],
   "source": [
    "first = '     maneesh'\n",
    "middle = 'kumar '\n",
    "last = ' pandey '\n",
    "print(f\"{first.title()} {last.upper()} {middle.lower()}\")"
   ]
  },
  {
   "cell_type": "code",
   "execution_count": 35,
   "metadata": {},
   "outputs": [
    {
     "name": "stdout",
     "output_type": "stream",
     "text": [
      " My first name is :  maneesh My middle name is :  kumar  My last name is :  pandey \n"
     ]
    }
   ],
   "source": [
    "print(f\" My first name is :\" , first , \"My middle name is : \", middle , \"My last name is :\",  last )"
   ]
  },
  {
   "cell_type": "code",
   "execution_count": 36,
   "metadata": {},
   "outputs": [
    {
     "name": "stdout",
     "output_type": "stream",
     "text": [
      " My first name is :  maneesh \t My middle name is :  kumar  \t My last name is :  pandey \n"
     ]
    }
   ],
   "source": [
    "print(f\" My first name is :\" , first , \"\\t My middle name is : \", middle , \"\\t My last name is :\",  last )"
   ]
  },
  {
   "cell_type": "code",
   "execution_count": 37,
   "metadata": {},
   "outputs": [
    {
     "name": "stdout",
     "output_type": "stream",
     "text": [
      " My first name is :  maneesh \n",
      " My middle name is :  kumar  \n",
      " My last name is :  pandey \n"
     ]
    }
   ],
   "source": [
    "print(f\" My first name is :\" , first , \"\\n My middle name is : \", middle , \"\\n My last name is :\",  last )"
   ]
  },
  {
   "cell_type": "code",
   "execution_count": 44,
   "metadata": {},
   "outputs": [
    {
     "name": "stdout",
     "output_type": "stream",
     "text": [
      " My first name is : maneesh \n",
      " My middle name is : kumar \n",
      " My last name is : pandey \n"
     ]
    }
   ],
   "source": [
    "print(f\" My first name is :\" , first.lstrip(' ') , \"\\n My middle name is :\", middle.rstrip() , \"\\n My last name is :\",  last.lstrip() )"
   ]
  },
  {
   "cell_type": "code",
   "execution_count": 45,
   "metadata": {},
   "outputs": [
    {
     "name": "stdout",
     "output_type": "stream",
     "text": [
      " My first name is : maneesh \n",
      "\t My middle name is : kumar \t\n",
      " My last name is : pandey \n"
     ]
    }
   ],
   "source": [
    "print(f\" My first name is :\" , first.lstrip(' ') , \"\\n\\t My middle name is :\", middle.rstrip() , \"\\t\\n My last name is :\",  last.lstrip() )"
   ]
  },
  {
   "cell_type": "code",
   "execution_count": null,
   "metadata": {},
   "outputs": [],
   "source": []
  },
  {
   "cell_type": "code",
   "execution_count": null,
   "metadata": {},
   "outputs": [],
   "source": []
  },
  {
   "cell_type": "code",
   "execution_count": null,
   "metadata": {},
   "outputs": [],
   "source": []
  },
  {
   "cell_type": "code",
   "execution_count": null,
   "metadata": {},
   "outputs": [],
   "source": []
  },
  {
   "cell_type": "code",
   "execution_count": null,
   "metadata": {},
   "outputs": [],
   "source": []
  },
  {
   "cell_type": "code",
   "execution_count": null,
   "metadata": {},
   "outputs": [],
   "source": []
  },
  {
   "cell_type": "code",
   "execution_count": null,
   "metadata": {},
   "outputs": [],
   "source": []
  }
 ],
 "metadata": {
  "kernelspec": {
   "display_name": "Python 3",
   "language": "python",
   "name": "python3"
  },
  "language_info": {
   "codemirror_mode": {
    "name": "ipython",
    "version": 3
   },
   "file_extension": ".py",
   "mimetype": "text/x-python",
   "name": "python",
   "nbconvert_exporter": "python",
   "pygments_lexer": "ipython3",
   "version": "3.7.6"
  }
 },
 "nbformat": 4,
 "nbformat_minor": 4
}
